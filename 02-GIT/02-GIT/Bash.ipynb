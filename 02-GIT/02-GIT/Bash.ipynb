{
 "cells": [
  {
   "cell_type": "markdown",
   "id": "57e7570c",
   "metadata": {
    "slideshow": {
     "slide_type": "slide"
    }
   },
   "source": [
    "<img style=\"float:left\" width=\"30%\" src=\"pics/escudo_COLOR_1L_DCHA.png\">\n",
    "<img style=\"float:right\" width=\"8%\" src=\"pics/PythonLogo.svg\">\n",
    "<br style=\"clear:both;\">\n",
    "\n",
    "# SISTEMAS INTELIGENTES APLICADOS A LA SALUD\n",
    "\n",
    "\n",
    "\n",
    "<h2 style=\"display: inline-block; padding: 4mm; padding-left: 2em; background-color: navy; line-height: 1.3em; color: white; border-radius: 10px;\">CheatSheet - BASH</h2>\n",
    "<br style=\"clear:both;\">\n",
    "\n",
    "## Docente\n",
    "\n",
    " - **David García García**"
   ]
  },
  {
   "cell_type": "markdown",
   "id": "e7bd51ae-d7c4-42fd-8eea-93016d46801a",
   "metadata": {},
   "source": [
    "<div class=\"alert alert-success\">\n",
    "       En un Jupyter Notebook, si se inicia línea en una celda de código con <kbd>!</kbd>, el contenido de esta se ejecuta como un comando bash en el contenedor de su notebook.\n",
    "</div>    \n",
    "\n",
    "Material obtenido de: https://github.com/RehanSaeed/Bash-Cheat-Sheet/tree/main\n",
    "\n",
    "# Bash Cheat Sheet\n",
    "\n",
    " A cheat sheet for bash commands.\n",
    "\n",
    "## Command History\n",
    "\n",
    "```bash\n",
    "!!            # Run the last command\n",
    "\n",
    "touch foo.sh\n",
    "chmod +x !$   # !$ is the last argument of the last command i.e. foo.sh\n",
    "```\n",
    "\n",
    "## Navigating Directories\n",
    "\n",
    "```bash\n",
    "pwd                       # Print current directory path\n",
    "ls                        # List directories\n",
    "ls -a|--all               # List directories including hidden\n",
    "ls -l                     # List directories in long form\n",
    "ls -l -h|--human-readable # List directories in long form with human readable sizes\n",
    "ls -t                     # List directories by modification time, newest first\n",
    "stat foo.txt              # List size, created and modified timestamps for a file\n",
    "stat foo                  # List size, created and modified timestamps for a directory\n",
    "tree                      # List directory and file tree\n",
    "tree -a                   # List directory and file tree including hidden\n",
    "tree -d                   # List directory tree\n",
    "cd foo                    # Go to foo sub-directory\n",
    "cd                        # Go to home directory\n",
    "cd ~                      # Go to home directory\n",
    "cd -                      # Go to last directory\n",
    "pushd foo                 # Go to foo sub-directory and add previous directory to stack\n",
    "popd                      # Go back to directory in stack saved by `pushd`\n",
    "```\n",
    "\n",
    "## Creating Directories\n",
    "\n",
    "```bash\n",
    "mkdir foo                        # Create a directory\n",
    "mkdir foo bar                    # Create multiple directories\n",
    "mkdir -p|--parents foo/bar       # Create nested directory\n",
    "mkdir -p|--parents {foo,bar}/baz # Create multiple nested directories\n",
    "\n",
    "mktemp -d|--directory            # Create a temporary directory\n",
    "```\n",
    "\n",
    "## Moving Directories\n",
    "\n",
    "```bash\n",
    "cp -R|--recursive foo bar                               # Copy directory\n",
    "mv foo bar                                              # Move directory\n",
    "\n",
    "rsync -z|--compress -v|--verbose /foo /bar              # Copy directory, overwrites destination\n",
    "rsync -a|--archive -z|--compress -v|--verbose /foo /bar # Copy directory, without overwriting destination\n",
    "rsync -avz /foo username@hostname:/bar                  # Copy local directory to remote directory\n",
    "rsync -avz username@hostname:/foo /bar                  # Copy remote directory to local directory\n",
    "```\n",
    "\n",
    "## Deleting Directories\n",
    "\n",
    "```bash\n",
    "rmdir foo                        # Delete empty directory\n",
    "rm -r|--recursive foo            # Delete directory including contents\n",
    "rm -r|--recursive -f|--force foo # Delete directory including contents, ignore nonexistent files and never prompt\n",
    "```\n",
    "\n",
    "## Creating Files\n",
    "\n",
    "```bash\n",
    "touch foo.txt          # Create file or update existing files modified timestamp\n",
    "touch foo.txt bar.txt  # Create multiple files\n",
    "touch {foo,bar}.txt    # Create multiple files\n",
    "touch test{1..3}       # Create test1, test2 and test3 files\n",
    "touch test{a..c}       # Create testa, testb and testc files\n",
    "\n",
    "mktemp                 # Create a temporary file\n",
    "```\n",
    "\n",
    "## Standard Output, Standard Error and Standard Input\n",
    "\n",
    "```bash\n",
    "echo \"foo\" > bar.txt       # Overwrite file with content\n",
    "echo \"foo\" >> bar.txt      # Append to file with content\n",
    "\n",
    "ls exists 1> stdout.txt    # Redirect the standard output to a file\n",
    "ls noexist 2> stderror.txt # Redirect the standard error output to a file\n",
    "ls 2>&1 > out.txt          # Redirect standard output and error to a file\n",
    "ls > /dev/null             # Discard standard output and error\n",
    "\n",
    "read foo                   # Read from standard input and write to the variable foo\n",
    "```\n",
    "\n",
    "## Moving Files\n",
    "\n",
    "```bash\n",
    "cp foo.txt bar.txt                                # Copy file\n",
    "mv foo.txt bar.txt                                # Move file\n",
    "\n",
    "rsync -z|--compress -v|--verbose /foo.txt /bar    # Copy file quickly if not changed\n",
    "rsync z|--compress -v|--verbose /foo.txt /bar.txt # Copy and rename file quickly if not changed\n",
    "```\n",
    "\n",
    "## Deleting Files\n",
    "\n",
    "```bash\n",
    "rm foo.txt            # Delete file\n",
    "rm -f|--force foo.txt # Delete file, ignore nonexistent files and never prompt\n",
    "```\n",
    "\n",
    "## Reading Files\n",
    "\n",
    "```bash\n",
    "cat foo.txt            # Print all contents\n",
    "less foo.txt           # Print some contents at a time (g - go to top of file, SHIFT+g, go to bottom of file, /foo to search for 'foo')\n",
    "head foo.txt           # Print top 10 lines of file\n",
    "tail foo.txt           # Print bottom 10 lines of file\n",
    "open foo.txt           # Open file in the default editor\n",
    "wc foo.txt             # List number of lines words and characters in the file\n",
    "```"
   ]
  },
  {
   "cell_type": "markdown",
   "id": "d953046f-ad7d-44ba-aa70-35456879271d",
   "metadata": {},
   "source": [
    "# Ejemplos\n",
    "\n",
    "<div class=\"alert alert-danger\">\n",
    "       La ejecución de las siguientes celdas, realizará diferentes cambios en el directorio actual de trabajo.\n",
    "</div>"
   ]
  },
  {
   "cell_type": "code",
   "execution_count": null,
   "id": "7eb7e9a1-1eab-4932-bb0d-5cab9ef94a9a",
   "metadata": {},
   "outputs": [],
   "source": [
    "# Crear un directorio\n",
    "!mkdir nuevo_directorio"
   ]
  },
  {
   "cell_type": "code",
   "execution_count": null,
   "id": "89cb02de-2adb-4f56-8e40-3db7957d7cf7",
   "metadata": {},
   "outputs": [],
   "source": [
    "# Crear un directorio con subdirectorios\n",
    "!mkdir -p nuevo_directorio/archivos/temporales"
   ]
  },
  {
   "cell_type": "code",
   "execution_count": null,
   "id": "1696a0eb-f5cf-428a-ae6b-87aefc4f1744",
   "metadata": {},
   "outputs": [],
   "source": [
    "# Listar archivos en directorio de trabajo\n",
    "!ls"
   ]
  },
  {
   "cell_type": "code",
   "execution_count": null,
   "id": "54564dd4-f547-4a7f-9255-74d992aaddf7",
   "metadata": {},
   "outputs": [],
   "source": [
    "# Crear un archivo vacío\n",
    "!touch nuevo_directorio/archivos/temporales/archivo_vacio.txt"
   ]
  },
  {
   "cell_type": "code",
   "execution_count": null,
   "id": "1d6e48f0-d5bf-4fef-af87-1c1c3792583a",
   "metadata": {},
   "outputs": [],
   "source": [
    "# Verificar el contenido del archivo\n",
    "!cat nuevo_directorio/archivos/temporales/archivo_vacio.txt"
   ]
  },
  {
   "cell_type": "code",
   "execution_count": null,
   "id": "1559af83-4c0c-4b4d-88e3-da4986e5909e",
   "metadata": {},
   "outputs": [],
   "source": [
    "# Crear un archivo archivo_origen.txt\n",
    "!echo \"Archivo de texto\" > nuevo_directorio/archivos/temporales/archivo_origen.txt"
   ]
  },
  {
   "cell_type": "code",
   "execution_count": null,
   "id": "70faaef2-2674-4a4c-9c9c-077838b25ee9",
   "metadata": {},
   "outputs": [],
   "source": [
    "# Verificar el contenido del archivo\n",
    "!cat nuevo_directorio/archivos/temporales/archivo_origen.txt"
   ]
  },
  {
   "cell_type": "code",
   "execution_count": null,
   "id": "b9583f90-dd42-487f-bb01-8c1d49e2403a",
   "metadata": {},
   "outputs": [],
   "source": [
    "#Incluimos nuevas lineas al archivo\n",
    "!echo \"Una nueva linea\" >> nuevo_directorio/archivos/temporales/archivo_origen.txt\n",
    "!echo \"Otra nueva linea\" >> nuevo_directorio/archivos/temporales/archivo_origen.txt"
   ]
  },
  {
   "cell_type": "code",
   "execution_count": null,
   "id": "9ddfb554-46ea-42c7-bd96-26070ce94bc7",
   "metadata": {},
   "outputs": [],
   "source": [
    "# Verificar el contenido del archivo\n",
    "!cat nuevo_directorio/archivos/temporales/archivo_origen.txt"
   ]
  },
  {
   "cell_type": "code",
   "execution_count": null,
   "id": "7270b3ef-6ac9-4870-a35a-b2f7eb24d99d",
   "metadata": {},
   "outputs": [],
   "source": [
    "# Copiar un archivo\n",
    "!cp nuevo_directorio/archivos/temporales/archivo_origen.txt nuevo_directorio/archivos/archivo_destino.txt"
   ]
  },
  {
   "cell_type": "code",
   "execution_count": null,
   "id": "ff8ad55e-f808-4321-8800-e1185d68d45c",
   "metadata": {},
   "outputs": [],
   "source": [
    "# Concatenar y mostrar contenido de varios archivos\n",
    "!cat nuevo_directorio/archivos/temporales/archivo_origen.txt nuevo_directorio/archivos/archivo_destino.txt > nuevo_directorio/archivos/temporales/archivo_concatenado.txt\n"
   ]
  },
  {
   "cell_type": "code",
   "execution_count": null,
   "id": "a1301399-0391-42b5-afa5-1e9169e8fd02",
   "metadata": {},
   "outputs": [],
   "source": [
    "# Verificar el contenido del archivo\n",
    "!cat nuevo_directorio/archivos/temporales/archivo_concatenado.txt"
   ]
  },
  {
   "cell_type": "code",
   "execution_count": null,
   "id": "c93f4cd5-8ff1-4c84-b532-33e15b0eeb97",
   "metadata": {},
   "outputs": [],
   "source": [
    "# Mover o renombrar un archivo o directorio\n",
    "!mv nuevo_directorio/archivos/temporales/archivo_concatenado.txt nuevo_directorio/archivo_definitivo.txt"
   ]
  },
  {
   "cell_type": "code",
   "execution_count": null,
   "id": "fd5d0806-3f3d-4af4-bd6f-2982f76577a6",
   "metadata": {},
   "outputs": [],
   "source": [
    "# Eliminar un archivo\n",
    "!rm nuevo_directorio/archivos/archivo_destino.txt"
   ]
  },
  {
   "cell_type": "code",
   "execution_count": null,
   "id": "3ddd65cc-0bd7-4b66-92c0-e028b03adbd7",
   "metadata": {},
   "outputs": [],
   "source": [
    "# Copiar un directorio y su contenido\n",
    "!cp -r nuevo_directorio/ directorio_destino/\n"
   ]
  },
  {
   "cell_type": "code",
   "execution_count": null,
   "id": "19bad0dc-9ef8-4072-ab90-9fa0f7a20cfd",
   "metadata": {},
   "outputs": [],
   "source": [
    "# Eliminar un directorio y su contenido\n",
    "!rm -r directorio_destino"
   ]
  },
  {
   "cell_type": "code",
   "execution_count": null,
   "id": "36c42799-e00c-4726-8040-ee7293d2f15f",
   "metadata": {},
   "outputs": [],
   "source": [
    "# Eliminar un directorio y su contenido\n",
    "!rm -r nuevo_directorio"
   ]
  }
 ],
 "metadata": {
  "kernelspec": {
   "display_name": "Python 3 (ipykernel)",
   "language": "python",
   "name": "python3"
  },
  "language_info": {
   "codemirror_mode": {
    "name": "ipython",
    "version": 3
   },
   "file_extension": ".py",
   "mimetype": "text/x-python",
   "name": "python",
   "nbconvert_exporter": "python",
   "pygments_lexer": "ipython3",
   "version": "3.12.4"
  }
 },
 "nbformat": 4,
 "nbformat_minor": 5
}
