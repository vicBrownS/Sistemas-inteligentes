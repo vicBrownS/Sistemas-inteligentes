{
 "cells": [
  {
   "cell_type": "markdown",
   "id": "57e7570c",
   "metadata": {
    "slideshow": {
     "slide_type": "slide"
    }
   },
   "source": [
    "<img style=\"float:left\" width=\"30%\" src=\"pics/escudo_COLOR_1L_DCHA.png\">\n",
    "<img style=\"float:right\" width=\"8%\" src=\"pics/PythonLogo.svg\">\n",
    "<br style=\"clear:both;\">\n",
    "\n",
    "# SISTEMAS INTELIGENTES APLICADOS A LA SALUD\n",
    "\n",
    "\n",
    "\n",
    "<h2 style=\"display: inline-block; padding: 4mm; padding-left: 2em; background-color: navy; line-height: 1.3em; color: white; border-radius: 10px;\">Herramientas de desarrollo</h2>\n",
    "<br style=\"clear:both;\">\n",
    "<h2 style=\"display: inline-block; padding: 4mm; padding-left: 2em; background-color: orange; line-height: 1.3em; color: white; border-radius: 10px;\">Introducción a Jupyter y Anaconda</h2>\n",
    "\n",
    "## Docente\n",
    "\n",
    " - **David García García**"
   ]
  },
  {
   "cell_type": "markdown",
   "id": "163928ac",
   "metadata": {
    "slideshow": {
     "slide_type": "slide"
    }
   },
   "source": [
    "# Cuadernos Jupyter\n",
    "\n",
    "Una de las principales herramientas que se van a emplear en este curso son los [cuadernos de Jupyter](http://jupyter.org/) (<i class=\"concept\">Jupyter notebooks</i>), que permiten combinar documentación y código, aunque también será necesario conocer y trabajar con los diferentes modos de trabajo de Python que nos faciliten crear, manejar módulos y programas propios. \n",
    "\n",
    "## ¿Qué son los *Jupyter notebooks*?\n",
    "\n",
    "Un notebook es un entorno de desarrollo que nos permite escribir y evaluar código. Permite, además, documentar de manera atractiva usando sintaxis [Markdown](https://es.wikipedia.org/wiki/Markdown) y [HTML](https://es.wikipedia.org/wiki/HTML), mostrar fórmulas con [LaTeX](https://es.wikipedia.org/wiki/LaTeX), así como visualizar los resultados y gestionar la interacción con el usuario. Se guardan en un archivo de texto de extensión <kbd>.ipynb</kbd> que contiene una estructura de datos en formato JSON."
   ]
  },
  {
   "cell_type": "markdown",
   "id": "40027532",
   "metadata": {
    "slideshow": {
     "slide_type": "slide"
    }
   },
   "source": [
    "## ¿Por qué utilizarlos?\n",
    "\n",
    "Su capacidad de poder intercalar explicaciones y código hace que sea una buena herramienta para la **docencia** y el **aprendizaje**. Además, existen visores de notebooks *on-line*, que permiten interactuar desde cualquier equipo con un lenguaje de programación de los que soporta, entre ellos: *Python*, *R*, *Julia*, y *Scala*.\n",
    "\n",
    "<div class=\"alert alert-info\">\n",
    "   <i style=\"font-size: larger;\" class=\"fa fa-info-circle\" aria-hidden=\"true\"></i> Jupyter se puede lanzar desde el menú de inicio (en Windows) o desde el Launcher (en Mac).\n",
    "</div>"
   ]
  },
  {
   "cell_type": "markdown",
   "id": "809b3583",
   "metadata": {
    "slideshow": {
     "slide_type": "slide"
    }
   },
   "source": [
    "<div class=\"alert alert-success\">\n",
    "   Os recomiendo descargar la distribución <a href=\"https://www.anaconda.com/products/individual\">Anaconda</a>\n",
    "Es una de las maneras más sencillas de programar en Python e incluye cientos de los paquetes más comunes. Además, su gestor de paquetes hace fácil y rápido el manejo de los mismos.\n",
    "</div>"
   ]
  },
  {
   "cell_type": "code",
   "id": "3c30ad96",
   "metadata": {
    "slideshow": {
     "slide_type": "slide"
    },
    "jupyter": {
     "is_executing": true
    }
   },
   "source": [
    "print('Hola Mundo')"
   ],
   "outputs": [],
   "execution_count": null
  },
  {
   "cell_type": "code",
   "id": "bdda9257",
   "metadata": {
    "slideshow": {
     "slide_type": "slide"
    },
    "jupyter": {
     "is_executing": true
    }
   },
   "source": [
    "# Código ejecutable\n",
    "\n",
    "N=list(range(0,200))\n",
    "print('La suma ∑_i∈N i*i es', sum(i**2 for i in N))"
   ],
   "outputs": [],
   "execution_count": null
  },
  {
   "cell_type": "markdown",
   "id": "91ef8a3d",
   "metadata": {
    "slideshow": {
     "slide_type": "slide"
    }
   },
   "source": [
    "## Alternativas a Jupyter\n",
    "\n",
    "- La [Jupyter QtConsole](https://qtconsole.readthedocs.io/en/latest/), no tenemos que hacer nada espacial para instalarla, dado que, como Jupyter, también viene por defecto con la distribución de Anaconda, ejecutándose con `jupyter-qtconsole`. Permite mostrar gráficos integrados.\n",
    "\n",
    "- [JupyterLab](https://jupyterlab.readthedocs.io/en/stable/) la evolución de Jupyter. Aunque es un producto en desarrollo, ya se puede usar. Se puede instalar con el [Anaconda navigator](https://anaconda.org/anaconda/anaconda-navigator)\n",
    "\n",
    "<h3>IDEs (<a style=\"font-size: smaller;\" href=\"https://es.wikipedia.org/wiki/Entorno_de_desarrollo_integrado\">Entornos de desarrollo integrados</a>)</h3>\n",
    "\n",
    "- [Spyder] (https://www.spyder-ide.org/) es un IDE de programación. Por defecto, también se instala cuando instalamos Anaconda. Integra: NumPy, SciPy, Matplotlib, e IPython. Es una solución muy elegante para trabajar con módulos y archivos ejecutables. Para instalarlo desde conda:\n",
    "```\n",
    "conda install spyder\n",
    "```\n"
   ]
  },
  {
   "cell_type": "markdown",
   "id": "6cc45263",
   "metadata": {},
   "source": [
    "# Utilización de entornos virtuales en Anaconda\n",
    "\n",
    "Con Anaconda se pueden crear entornos virtuales aislados. Las  bibliotecas en un entorno no interfieren con la instalación general, ni con las de otros entornos.\n",
    "\n",
    "Podemos **crear** un entorno con el kernel o lenguaje de programación que necesitemos (en nuestro caso, python):\n",
    "\n",
    "- En **Windows**: para facilitar el proceso, emplea *Anaconda Powershell Prompt*.\n",
    "- **Linux y Mac OS X**: emplea el terminal\n",
    "\n",
    "```\n",
    "conda create -n nuevo_entorno python\n",
    "```\n",
    "\n",
    "Para **activar** un entorno, se usa: \n",
    "\n",
    "```\n",
    "source activate nuevo_entorno\n",
    "```\n",
    "\n",
    "Ahora verás el prefijo (nuevo_entorno) al comienzo de la linea del símbolo de sistema.\n",
    "```\n",
    "(nuevo_entorno)$\n",
    "```\n",
    "\n",
    "Para **desactivar** el entorno, usa \n",
    "\n",
    "```\n",
    "source deactivate\n",
    "```"
   ]
  },
  {
   "cell_type": "markdown",
   "id": "4b4508a0",
   "metadata": {},
   "source": [
    "## Opciones en conda:\n",
    "\n",
    "- Crear un nuevo entorno conda de nombre <kbd>nuevo_entorno</kbd> y con los paquetes <kbd>sqlite</kbd> y <kbd>flask</kbd>:\n",
    "```\n",
    "conda create -n nuevo_entorno python=3.11 sqlite flask\n",
    "#o\n",
    "conda env create -n nuevo_entorno python=3.11 sqlite flask\n",
    "```\n",
    "\n",
    "- Activar el entorno <kbd>nuevo_entorno</kbd>:\n",
    "```\n",
    "source activate nuevo_entorno #en Linux y Mac\n",
    "#o\n",
    "activate nuevo_entorno #en Windows\n",
    "```\n",
    "- Desactivar el entorno virtual\n",
    "```\n",
    "source deactivate #en Linux y Mac\n",
    "#o\n",
    "deactivate #en Windows\n",
    "```\n",
    "- Listar todos los entornos virtuales:\n",
    "```\n",
    "conda env list\n",
    "#o\n",
    "conda info --envs\n",
    "```\n"
   ]
  },
  {
   "cell_type": "markdown",
   "id": "a961f67b",
   "metadata": {},
   "source": [
    "- Listar todos los paquetes instalados en el entorno actual:\n",
    "```\n",
    "conda list\n",
    "```\n",
    "- Listar todos los paquetes instalados en el entorno <kbd>nuevo_entorno</kbd>:\n",
    "```\n",
    "conda list -n nuevo_entorno\n",
    "```\n",
    "\n",
    "<div class=\"alert alert-info\">\n",
    "   <i style=\"font-size: larger;\" class=\"fa fa-info-circle\" aria-hidden=\"true\"></i> <b>Consejo: </b>Para instalar diferentes paquete o módulos, te recomiendo emplear <kbd>pip</kbd> en lugar de instalar mediante conda. De esta forma tendrás un mejor control de las versiones instaladas. En el directorio en el que se encuentra este notebook, puedes encontrar una \"cheat sheep\" sobre <kbd>pip</kbd>.\n",
    "</div>\n",
    "\n",
    "- Instalar el paquete <kbd>scipy</kbd> en el entorno activo actual:\n",
    "```\n",
    "pip install scipy\n",
    "```"
   ]
  },
  {
   "cell_type": "markdown",
   "id": "94234bf6",
   "metadata": {},
   "source": [
    "- Clonar un entorno virtual:\n",
    "```\n",
    "conda create --name nuevoNombre --clone nuevo_entorno\n",
    "```\n",
    "- Eliminar el entorno virtual de nombre <kbd>nuevoNombre</kbd>\n",
    "```\n",
    "conda remove -n nuevoNombre --all\n",
    "```\n",
    "- Exportar el archivo de entorno (para crear un clon en otra máquina):\n",
    "```\n",
    "source activate nuevo_entorno\n",
    "#activate nuevo_entorno #en Windows\n",
    "conda env export > environment.yml\n",
    "```\n",
    "- Crear una copia de un entorno a partir de un archivo de entorno <kbd>environment.yml</kbd>:\n",
    "```\n",
    "conda env create -f environment.yml\n",
    "conda activate nuevo_entorno\n",
    "# activate envname # en Windows\n",
    "```"
   ]
  },
  {
   "cell_type": "markdown",
   "id": "6361c33f",
   "metadata": {},
   "source": [
    "- Obtener un archivo con el listado de paquetes instalados en el entorno virtual:\n",
    "```\n",
    "conda list --export > package-list.txt\n",
    "```\n",
    "- Crear un entorno con los paquetes incluidos en el archivo <kbd>package-list.txt</kbd>:\n",
    "```\n",
    "conda create -n otro_nuevo_entorno --file package-list.txt\n",
    "```\n",
    "- Mostrar la lista de subcomandos de conda:\n",
    "```\n",
    "conda help\n",
    "```\n",
    "- Mostrar información general de la instalación:\n",
    "```\n",
    "conda info\n",
    "```"
   ]
  },
  {
   "cell_type": "markdown",
   "id": "e3a2ad5e",
   "metadata": {},
   "source": [
    "## Creación entorno virtual para Sistemas Inteligentes \n",
    "\n",
    "\n",
    "En **Mac/Linux** incluimos en la terminal y en **Windows** en *Anaconda Powershell Prompt*\n",
    "\n",
    "```\n",
    "$ conda create -n sist_int python\n",
    "\n",
    "```\n",
    "\n",
    "\n",
    "Nos aparecerá algo similar a esto:\n",
    "```\n",
    "Retrieving notices: ...working... done\n",
    "Collecting package metadata (current_repodata.json): done\n",
    "Solving environment: done\n",
    "\n",
    "## Package Plan ##\n",
    "\n",
    "  environment location: /Applications/Anaconda3/envs/sist_int\n",
    "\n",
    "  added / updated specs:\n",
    "    - python\n",
    "\n",
    "(...)\n",
    "\n",
    "Proceed ([y]/n)? \n",
    "```"
   ]
  },
  {
   "cell_type": "markdown",
   "id": "f6453466",
   "metadata": {},
   "source": [
    "Pulsamos **y** y se descargará e instalará todo lo necesario:\n",
    "\n",
    "```\n",
    "Downloading and Extracting Packages\n",
    "                                                                                                                                                                                                                      \n",
    "Preparing transaction: done                                                                                                                                                                                           \n",
    "Verifying transaction: done                                                                                                                                                                                           \n",
    "Executing transaction: done                                                                                                                                                                                           \n",
    "#                                                                                                                                                                                                                     \n",
    "# To activate this environment, use                                                                                                                                                                                   \n",
    "#                                                                                                                                                                                                                     \n",
    "#     $ conda activate sist_int                                                                                                                                                                                          \n",
    "#                                                                                                                                                                                                                     \n",
    "# To deactivate an active environment, use                                                                                                                                                                            \n",
    "#                                                                                                                                                                                                                     \n",
    "#     $ conda deactivate                                      \n",
    "```\n"
   ]
  },
  {
   "cell_type": "markdown",
   "id": "59115962-12ac-4d6f-a635-ab395580ad79",
   "metadata": {},
   "source": [
    "Una vez creado, activamos el entorno e instalamos los módulos que necesitemos:\n",
    "\n",
    "```bash\n",
    "    conda activate sist_int\n",
    "    pip install jupyter\n",
    "\n",
    "```"
   ]
  },
  {
   "cell_type": "markdown",
   "id": "ef9381a1-fcc6-442b-ab76-ffca28baff5b",
   "metadata": {},
   "source": [
    "# `Ejercicio 1`\n",
    "\n",
    "- **Crea el entorno virtual <kbd>sist_int</kbd> en tu equipo personal siguiendo los pasos indicados anteriormente.** \n",
    "- **Incluye en ese nuevo entorno los paquetes:**\n",
    "    - numpy\n",
    "    - scikit-image\n",
    "    - panda\n",
    "- **Comprueba los paquetes que se encuentran instalados en ese entorno.**\n",
    "- **Crea un archivo en el que se encuentren todos los paquetes instalados en <kbd>sist_int</kbd>.**\n",
    "- **Crea un nuevo entorno denominado <kbd>sist_int_deploy</kbd> en el que incluyas unicamente `python`**\n",
    "    - Incluye los paquetes de <kbd>sist_int</kbd> en <kbd>sist_int_deploy</kbd> empleando el archivo creado en el paso anterior.\n",
    "- **Comprueba que los paquetes en ambos entornos son similares.**\n",
    "- **Eliminar el entorno <kbd>sist_int_deploy</kbd> y comprobar que no se encuentra entre los entornos de conda.**\n"
   ]
  },
  {
   "cell_type": "markdown",
   "id": "dd415b2b-a818-4bc2-9cf8-4d0c4cb3ffa2",
   "metadata": {},
   "source": [
    "## Instalar modulos/paquetes mediante `requirements.txt`"
   ]
  },
  {
   "cell_type": "markdown",
   "id": "38863f8d-d0a8-4eac-9f15-cc05cd792d8c",
   "metadata": {},
   "source": [
    "El archivo `requirements.txt` es un archivo de texto que contiene una lista de paquetes Python necesarios para tu proyecto. Cada línea en este archivo especifica un paquete y opcionalmente su versión. Es una práctica común usar `requirements.txt` para facilitar la instalación de dependencias en un entorno nuevo.\n",
    "\n",
    "<div class=\"alert alert-warning\">\n",
    "   <i style=\"font-size: larger;\" class=\"fa fa-info-circle\" aria-hidden=\"true\"></i> <b>NOTA IMPORTANTE: </b>Si compartes con otros los módulos/programas o notebooks que has implementado, es una muy buena práctica emplear este tipo de archivos para que el futuro usuario cree un nuevo entorno con los paquetes que se indiquen y no tenga conflictos.\n",
    "</div>"
   ]
  },
  {
   "cell_type": "markdown",
   "id": "0157928c-590f-426a-8c4e-f097950c874d",
   "metadata": {},
   "source": [
    "Podemos implementar el archivo `requirements.txt` de forma manual, es decir, linea a linea incluyendo aquellos paquetes/módulos que se hayan empleado en el desarrollo del programa/aplicación. Es necesario incluir la versión del paquete.\n",
    "Un ejemplo del contenido del archivo `requirements.txt` podría ser:\n",
    "\n",
    "```\n",
    "    matplotlib==3.9.1\n",
    "    numpy==2.0.0\n",
    "    pandas==2.2.2\n",
    "```\n",
    "Por otro lado, podemos emplear la opción `freeze` de pip para incluir en un archivo todos los paquetes que se encuentren instalados en un entorno:\n",
    "```bash\n",
    "# Crear el archivo requirements.txt utilizando pip\n",
    "pip freeze > requirements.txt\n",
    "\n",
    "# Verificar el contenido del archivo requirements.txt\n",
    "cat requirements.txt\n",
    "```\n",
    "\n",
    "Para instalar en el nuevo entorno los módulos que aparecen en archivo simplemente tendrás que activar el nuevo entorno y ejecutar:\n",
    "\n",
    "```bash\n",
    "pip install -r requirements.txt\n",
    "```"
   ]
  },
  {
   "cell_type": "markdown",
   "id": "a0ca2d32-ece8-476c-86a9-a8301c357851",
   "metadata": {},
   "source": [
    "# `Ejercicio 2`\n",
    "\n",
    "- **Crea un nuevo entorno virtual** <kbd>env_original</kbd> **en tu equipo personal.** \n",
    "- **Incluye en ese nuevo entorno los paquetes:**\n",
    "    - numpy\n",
    "    - scikit-image\n",
    "    - panda\n",
    "- **Comprueba los paquetes que se encuentran instalados en ese entorno.**\n",
    "- **Crea un archivo** `requirements.txt` **en el que se encuentren todos los paquetes instalados en <kbd>env_original</kbd>.**\n",
    "- **Crea un nuevo entorno denominado <kbd>env_copia</kbd> con `python`**\n",
    "    - Incluye los paquetes de <kbd>env_original</kbd> en <kbd>env_copia</kbd> empleando el archivo creado en el paso anterior.\n",
    "- **Comprueba que los paquetes en ambos entornos son similares.**\n",
    "- **Eliminar el entorno <kbd>env_copia</kbd> y comprobar que no se encuentra entre los entornos de conda.**\n",
    "- **Eliminar el entorno <kbd>env_original</kbd> y comprobar que no se encuentra entre los entornos de conda.**"
   ]
  },
  {
   "cell_type": "markdown",
   "id": "4d09181d-9a6f-4162-bd66-2964f8104618",
   "metadata": {},
   "source": [
    "### `Bonus track:` Creación de un Entorno Virtual en python\n",
    "\n",
    "Es posible crear un entorno virtual directamente en Python, de una manera muy similar a como se realiza en es un espacio aislado donde puedes instalar paquetes específicos sin afectar otros proyectos o el sistema global.\n",
    "\n",
    "```bash\n",
    "# Crear un entorno virtual\n",
    "python -m venv venv\n",
    "\n",
    "# Activar el entorno virtual (en Linux/MacOS)\n",
    "source venv/bin/activate\n",
    "\n",
    "# Activar el entorno virtual (en Windows)\n",
    "venv\\Scripts\\activate\n",
    "```\n",
    "\n",
    "Puedes encontrar mas información en el siguiente enlace: https://docs.python.org/es/3/tutorial/venv.html "
   ]
  },
  {
   "cell_type": "markdown",
   "id": "fa4bdd4a",
   "metadata": {
    "slideshow": {
     "slide_type": "slide"
    }
   },
   "source": [
    "# Algunas referencias interesantes\n",
    "\n",
    "- Página principal de Anaconda: https://store.continuum.io/cshop/anaconda/\n",
    "- Descargas de Anaconda: http://continuum.io/downloads\n",
    "- Lista de paquetes en la distribución Anaconda: http://docs.continuum.io/anaconda/pkg-docs\n",
    "- Página principal de Conda: http://conda.io/\n",
    "- Lista de distribución de Anaconda: https://groups.google.com/a/continuum.io/forum/#!forum/anaconda\n",
    "- Lista de preguntas frecuentes sobre Conda: http://conda.pydata.org/docs/faq.html\n",
    "- Una selección de paquetes Python: http://awesome-python.com/"
   ]
  }
 ],
 "metadata": {
  "kernelspec": {
   "display_name": "Python 3 (ipykernel)",
   "language": "python",
   "name": "python3"
  },
  "language_info": {
   "codemirror_mode": {
    "name": "ipython",
    "version": 3
   },
   "file_extension": ".py",
   "mimetype": "text/x-python",
   "name": "python",
   "nbconvert_exporter": "python",
   "pygments_lexer": "ipython3",
   "version": "3.12.4"
  }
 },
 "nbformat": 4,
 "nbformat_minor": 5
}
